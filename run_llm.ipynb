{
 "cells": [
  {
   "cell_type": "markdown",
   "metadata": {},
   "source": [
    "# Example script to prompt LLMs\n",
    "\n",
    "In this notebook I give an example of how to interact with the LLMs. Feel free to change this script to your liking.\n",
    "\n",
    "[LangChain Documentation](https://python.langchain.com/docs/)\n",
    "\n",
    "[DeepInfra Documentation](https://deepinfra.com/docs/)"
   ]
  },
  {
   "cell_type": "markdown",
   "metadata": {},
   "source": [
    "### Logging\n",
    "\n",
    "For future reference it is very important to keep track of every action we perform, make sure to push your logs to git."
   ]
  },
  {
   "cell_type": "code",
   "execution_count": 2,
   "metadata": {},
   "outputs": [],
   "source": [
    "import logging\n",
    "import time\n",
    "import os\n",
    "\n",
    "# Make sure you use your own API token\n",
    "os.environ[\"DEEPINFRA_API_TOKEN\"] = 'Fill in your own key here'\n",
    "user = \"Fill in your own username here\"\n",
    "\n",
    "logger = logging.getLogger(__name__)\n",
    "logging.basicConfig(filename=f\"./logs/{user}_output_{time.time()}.log\", encoding='utf-8', level=logging.DEBUG)"
   ]
  },
  {
   "cell_type": "markdown",
   "metadata": {},
   "source": [
    "# Creating the Model"
   ]
  },
  {
   "cell_type": "code",
   "execution_count": 8,
   "metadata": {},
   "outputs": [],
   "source": [
    "from langchain_community.chat_models import ChatDeepInfra\n",
    "from langchain_core.messages import HumanMessage, SystemMessage\n",
    "\n",
    "def call_model_sync(messages):\n",
    "  chat = ChatDeepInfra(model=\"meta-llama/Llama-2-7b-chat-hf\", temperature=0)\n",
    "  resp = chat(messages)\n",
    "  resp.messages = messages \n",
    "  resp.user = user\n",
    "  logger.debug(dict(resp))\n",
    "  return resp"
   ]
  },
  {
   "cell_type": "markdown",
   "metadata": {},
   "source": [
    "## Calling the model"
   ]
  },
  {
   "cell_type": "code",
   "execution_count": null,
   "metadata": {},
   "outputs": [],
   "source": [
    "messages = [\n",
    "    SystemMessage(\n",
    "        content=\"Be a helpful assistant\"\n",
    "    ),\n",
    "    HumanMessage(\n",
    "        content=\"Translate this sentence from English to French. I love programming.\"\n",
    "    )\n",
    "]\n",
    "res = call_model_sync(messages)"
   ]
  },
  {
   "cell_type": "code",
   "execution_count": 15,
   "metadata": {},
   "outputs": [
    {
     "data": {
      "text/plain": [
       "'content=\\'  Sure, I\\\\\\'d be happy to help! Here is the translation of \"I love programming\" from English to French:\\\\n\\\\n\"J\\\\\\'aime le programming.\"\\\\n\\\\nIn French, the verb \"aimer\" is used to express the idea of loving or enjoying something, and \"programming\" is the noun that is being loved.\\' response_metadata={\\'token_usage\\': {\\'prompt_tokens\\': 39, \\'total_tokens\\': 114, \\'completion_tokens\\': 75}, \\'model\\': \\'meta-llama/Llama-2-7b-chat-hf\\', \\'finish_reason\\': \\'stop\\'} id=\\'run-5db7f951-6875-4403-90de-c5eb8ebb81c8-0\\' messages=[SystemMessage(content=\\'Be a helpful assistant\\'), HumanMessage(content=\\'Translate this sentence from English to French. I love programming.\\')] user=\\'Fill in your own username here\\''"
      ]
     },
     "execution_count": 15,
     "metadata": {},
     "output_type": "execute_result"
    }
   ],
   "source": [
    "str(res)"
   ]
  },
  {
   "cell_type": "markdown",
   "metadata": {},
   "source": [
    "### Good Luck\n",
    "\n",
    "![display image](https://github.com/jglovier/gifs/blob/gh-pages/done/hand-wipe.gif?raw=true)"
   ]
  }
 ],
 "metadata": {
  "kernelspec": {
   "display_name": "Python 3",
   "language": "python",
   "name": "python3"
  },
  "language_info": {
   "codemirror_mode": {
    "name": "ipython",
    "version": 3
   },
   "file_extension": ".py",
   "mimetype": "text/x-python",
   "name": "python",
   "nbconvert_exporter": "python",
   "pygments_lexer": "ipython3",
   "version": "3.10.13"
  }
 },
 "nbformat": 4,
 "nbformat_minor": 2
}
