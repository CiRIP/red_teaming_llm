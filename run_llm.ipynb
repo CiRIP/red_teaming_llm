{
 "cells": [
  {
   "cell_type": "markdown",
   "metadata": {},
   "source": [
    "# Example script to prompt LLMs\n",
    "\n",
    "In this notebook I give an example of how to interact with the LLMs. Feel free to change this script to your liking.\n",
    "\n",
    "[LangChain Documentation](https://python.langchain.com/docs/)\n",
    "\n",
    "[DeepInfra Documentation](https://deepinfra.com/docs/)"
   ]
  },
  {
   "cell_type": "markdown",
   "metadata": {},
   "source": [
    "### Logging\n",
    "\n",
    "For future reference it is very important to keep track of every action we perform, make sure to push your logs to git."
   ]
  },
  {
   "cell_type": "code",
   "execution_count": 1,
   "metadata": {},
   "outputs": [],
   "source": [
    "import logging\n",
    "import time\n",
    "import os\n",
    "\n",
    "# Make sure you use your own API token\n",
    "# Simply place the key in the deep_infra.key file\n",
    "with open(\"./deep_infra.key\", 'r') as f:\n",
    "    os.environ[\"DEEPINFRA_API_TOKEN\"] = f.read().strip()\n",
    "user = \"Fill in your own username here\"\n",
    "\n",
    "logger = logging.getLogger(__name__)\n",
    "logging.basicConfig(filename=f\"./logs/{user}_output_{time.time()}.log\", encoding='utf-8', level=logging.DEBUG)"
   ]
  },
  {
   "cell_type": "markdown",
   "metadata": {},
   "source": [
    "# Creating the Model"
   ]
  },
  {
   "cell_type": "code",
   "execution_count": 2,
   "metadata": {},
   "outputs": [],
   "source": [
    "from langchain_community.chat_models import ChatDeepInfra\n",
    "from langchain_core.messages import HumanMessage, SystemMessage\n",
    "\n",
    "def call_model_sync(messages):\n",
    "  chat = ChatDeepInfra(model=\"databricks/dbrx-instruct\", temperature=0)\n",
    "  resp = chat(messages)\n",
    "  resp.messages = messages \n",
    "  resp.user = user\n",
    "  logger.debug(dict(resp))\n",
    "  return resp"
   ]
  },
  {
   "cell_type": "markdown",
   "metadata": {},
   "source": [
    "## Calling the model"
   ]
  },
  {
   "cell_type": "code",
   "execution_count": 3,
   "metadata": {},
   "outputs": [
    {
     "name": "stderr",
     "output_type": "stream",
     "text": [
      "/home/codespace/.python/current/lib/python3.10/site-packages/langchain_core/_api/deprecation.py:119: LangChainDeprecationWarning: The method `BaseChatModel.__call__` was deprecated in langchain-core 0.1.7 and will be removed in 0.2.0. Use invoke instead.\n",
      "  warn_deprecated(\n"
     ]
    }
   ],
   "source": [
    "messages = [\n",
    "    SystemMessage(\n",
    "        content=\"Be a helpful assistant\"\n",
    "    ),\n",
    "    HumanMessage(\n",
    "        content=\"Translate this sentence from English to French. I love programming.\"\n",
    "    )\n",
    "]\n",
    "res = call_model_sync(messages)"
   ]
  },
  {
   "cell_type": "code",
   "execution_count": 4,
   "metadata": {},
   "outputs": [
    {
     "data": {
      "text/plain": [
       "'content=\\'\"I love programming\" can be translated to French as \"J\\\\\\'adore programmer\".\\\\n\\\\nHere\\\\\\'s the breakdown of the translation:\\\\n\\\\n* \"I\" is translated to \"je\" in French, but when used with a verb in the present tense, it often changes to \"j\\\\\\'\" due to elision (the dropping of a vowel or silent \\\\\\'h\\\\\\' at the beginning of a word when it follows another word that ends in a vowel or mute \\\\\\'h\\\\\\').\\\\n* \"love\" is translated to \"adore\" in French.\\\\n* \"programming\" is translated to \"programmer\" in French.\\\\n\\\\nSo, \"I love programming\" becomes \"J\\\\\\'adore programmer\" in French.\\' response_metadata={\\'token_usage\\': {\\'prompt_tokens\\': 29, \\'total_tokens\\': 168, \\'completion_tokens\\': 139}, \\'model\\': \\'databricks/dbrx-instruct\\', \\'finish_reason\\': \\'stop\\'} id=\\'run-555f07a9-1450-4ceb-8f0a-c6e923386201-0\\' messages=[SystemMessage(content=\\'Be a helpful assistant\\'), HumanMessage(content=\\'Translate this sentence from English to French. I love programming.\\')] user=\\'Fill in your own username here\\''"
      ]
     },
     "execution_count": 4,
     "metadata": {},
     "output_type": "execute_result"
    }
   ],
   "source": [
    "str(res)"
   ]
  },
  {
   "cell_type": "markdown",
   "metadata": {},
   "source": [
    "### Good Luck\n",
    "\n",
    "![display image](https://github.com/jglovier/gifs/blob/gh-pages/done/hand-wipe.gif?raw=true)"
   ]
  }
 ],
 "metadata": {
  "kernelspec": {
   "display_name": "Python 3",
   "language": "python",
   "name": "python3"
  },
  "language_info": {
   "codemirror_mode": {
    "name": "ipython",
    "version": 3
   },
   "file_extension": ".py",
   "mimetype": "text/x-python",
   "name": "python",
   "nbconvert_exporter": "python",
   "pygments_lexer": "ipython3",
   "version": "3.10.13"
  }
 },
 "nbformat": 4,
 "nbformat_minor": 2
}
