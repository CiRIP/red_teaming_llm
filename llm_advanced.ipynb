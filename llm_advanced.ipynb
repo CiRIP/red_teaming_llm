{
 "cells": [
  {
   "cell_type": "markdown",
   "metadata": {},
   "source": [
    "# LLMs for malware\n",
    "\n",
    "Easily prompt and label LLM prompts."
   ]
  },
  {
   "cell_type": "code",
   "execution_count": 1,
   "metadata": {},
   "outputs": [
    {
     "data": {
      "text/plain": [
       "'Initialized successfully'"
      ]
     },
     "execution_count": 1,
     "metadata": {},
     "output_type": "execute_result"
    }
   ],
   "source": [
    "import logging\n",
    "import time\n",
    "import os\n",
    "import sys\n",
    "import ipywidgets as widgets\n",
    "\n",
    "from ipywidgets import interact, interact_manual\n",
    "from IPython.display import Markdown, clear_output\n",
    "from langchain_community.chat_models import ChatDeepInfra\n",
    "from langchain_core.messages import HumanMessage, SystemMessage\n",
    "from langchain.callbacks.streaming_stdout import StreamingStdOutCallbackHandler\n",
    "\n",
    "# Make sure you use your own API token\n",
    "# Simply place the key in the deep_infra.key file\n",
    "with open(\"./deep_infra.key\", 'r') as f:\n",
    "    os.environ[\"DEEPINFRA_API_TOKEN\"] = f.read().strip()\n",
    "user = \"ciprian\"\n",
    "\n",
    "if not os.path.exists(\"logs\"):\n",
    "    os.makedirs(\"logs\")\n",
    "\n",
    "logger = logging.getLogger(__name__)\n",
    "logging.basicConfig(filename=f\"./logs/{user}_output_{time.time()}.log\", encoding='utf-8', level=logging.DEBUG)\n",
    "\n",
    "\"Initialized successfully\""
   ]
  },
  {
   "cell_type": "code",
   "execution_count": 5,
   "metadata": {},
   "outputs": [
    {
     "data": {
      "application/vnd.jupyter.widget-view+json": {
       "model_id": "8bf7d2f286814101a7cc3044b9878870",
       "version_major": 2,
       "version_minor": 0
      },
      "text/plain": [
       "interactive(children=(Textarea(value='Be a helpful assistant', description='System prompt:', layout=Layout(hei…"
      ]
     },
     "metadata": {},
     "output_type": "display_data"
    }
   ],
   "source": [
    "@interact_manual.options(manual_name=\"Run\")(\n",
    "        system_prompt = widgets.Textarea(value=\"Be a helpful assistant\", description=\"System prompt:\", layout=widgets.Layout(height=\"64px\", width=\"auto\")),\n",
    "        prompt = widgets.Textarea(description=\"Prompt:\", layout=widgets.Layout(height=\"64px\", width=\"auto\")),\n",
    "        label = widgets.Text(description=\"Label\"),\n",
    "        detail = widgets.ToggleButtons(options=[\"Low\", \"Medium\", \"High\"], description=\"Level of detail:\"))\n",
    "def call_model(system_prompt, prompt, label, detail):\n",
    "    messages = [\n",
    "        SystemMessage(\n",
    "            content=system_prompt\n",
    "        ),\n",
    "        HumanMessage(\n",
    "            content=prompt\n",
    "        )\n",
    "    ]\n",
    "\n",
    "    display(Markdown(\"_Running..._\"))\n",
    "\n",
    "    chat = ChatDeepInfra(model=\"databricks/dbrx-instruct\",\n",
    "                         temperature=0,\n",
    "                         max_tokens=4096)\n",
    "\n",
    "    res = chat.invoke(messages)\n",
    "\n",
    "    clear_output()\n",
    "    display(Markdown(res.content))\n",
    "\n",
    "    # save = widgets.Button(description=\"Save\")\n",
    "    # def on_save(b):\n",
    "    #     print(\"click\")\n",
    "    # save.on_click(on_save)\n",
    "\n",
    "    # display(save)\n",
    "    @interact_manual.options(manual_name=\"Save\")()\n",
    "    def on_save():\n",
    "        print(\"label\")\n",
    "\n",
    "    logger.debug(dict(res))"
   ]
  }
 ],
 "metadata": {
  "kernelspec": {
   "display_name": ".venv",
   "language": "python",
   "name": "python3"
  },
  "language_info": {
   "codemirror_mode": {
    "name": "ipython",
    "version": 3
   },
   "file_extension": ".py",
   "mimetype": "text/x-python",
   "name": "python",
   "nbconvert_exporter": "python",
   "pygments_lexer": "ipython3",
   "version": "3.11.9"
  }
 },
 "nbformat": 4,
 "nbformat_minor": 2
}
